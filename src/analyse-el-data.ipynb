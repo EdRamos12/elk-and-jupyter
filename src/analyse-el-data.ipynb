{
 "cells": [
  {
   "cell_type": "markdown",
   "metadata": {},
   "source": [
    "Install dependencies"
   ]
  },
  {
   "cell_type": "code",
   "execution_count": 1,
   "metadata": {},
   "outputs": [
    {
     "name": "stdout",
     "output_type": "stream",
     "text": [
      "Collecting elasticsearch\n",
      "  Downloading elasticsearch-8.10.1-py3-none-any.whl.metadata (5.1 kB)\n",
      "Collecting python-dotenv\n",
      "  Downloading python_dotenv-1.0.0-py3-none-any.whl (19 kB)\n",
      "Collecting elastic-transport<9,>=8 (from elasticsearch)\n",
      "  Downloading elastic_transport-8.10.0-py3-none-any.whl.metadata (3.5 kB)\n",
      "Requirement already satisfied: urllib3<3,>=1.26.2 in /opt/conda/lib/python3.11/site-packages (from elastic-transport<9,>=8->elasticsearch) (2.0.7)\n",
      "Requirement already satisfied: certifi in /opt/conda/lib/python3.11/site-packages (from elastic-transport<9,>=8->elasticsearch) (2023.7.22)\n",
      "Downloading elasticsearch-8.10.1-py3-none-any.whl (409 kB)\n",
      "\u001b[2K   \u001b[90m━━━━━━━━━━━━━━━━━━━━━━━━━━━━━━━━━━━━━━━\u001b[0m \u001b[32m409.3/409.3 kB\u001b[0m \u001b[31m800.2 kB/s\u001b[0m eta \u001b[36m0:00:00\u001b[0m0:01\u001b[0m00:01\u001b[0m\n",
      "\u001b[?25hDownloading elastic_transport-8.10.0-py3-none-any.whl (59 kB)\n",
      "\u001b[2K   \u001b[90m━━━━━━━━━━━━━━━━━━━━━━━━━━━━━━━━━━━━━━━━\u001b[0m \u001b[32m59.8/59.8 kB\u001b[0m \u001b[31m125.6 kB/s\u001b[0m eta \u001b[36m0:00:00\u001b[0m \u001b[36m0:00:01\u001b[0m\n",
      "\u001b[?25hInstalling collected packages: python-dotenv, elastic-transport, elasticsearch\n",
      "Successfully installed elastic-transport-8.10.0 elasticsearch-8.10.1 python-dotenv-1.0.0\n"
     ]
    }
   ],
   "source": [
    "!pip install elasticsearch python-dotenv"
   ]
  },
  {
   "cell_type": "code",
   "execution_count": 2,
   "metadata": {},
   "outputs": [],
   "source": [
    "import os\n",
    "from elasticsearch import Elasticsearch, NotFoundError, helpers\n",
    "import csv\n",
    "from dotenv import load_dotenv"
   ]
  },
  {
   "cell_type": "markdown",
   "metadata": {},
   "source": [
    "Load env variables"
   ]
  },
  {
   "cell_type": "code",
   "execution_count": 3,
   "metadata": {},
   "outputs": [
    {
     "data": {
      "text/plain": [
       "False"
      ]
     },
     "execution_count": 3,
     "metadata": {},
     "output_type": "execute_result"
    }
   ],
   "source": [
    "load_dotenv()"
   ]
  },
  {
   "cell_type": "markdown",
   "metadata": {},
   "source": [
    "Connect to ElasticSearch"
   ]
  },
  {
   "cell_type": "code",
   "execution_count": 4,
   "metadata": {},
   "outputs": [
    {
     "name": "stdout",
     "output_type": "stream",
     "text": [
      "{'name': 'elasticsearch', 'cluster_name': 'docker-cluster', 'cluster_uuid': 'SuNirrkfT9-5N6DF_oVYoA', 'version': {'number': '8.10.4', 'build_flavor': 'default', 'build_type': 'docker', 'build_hash': 'b4a62ac808e886ff032700c391f45f1408b2538c', 'build_date': '2023-10-11T22:04:35.506990650Z', 'build_snapshot': False, 'lucene_version': '9.7.0', 'minimum_wire_compatibility_version': '7.17.0', 'minimum_index_compatibility_version': '7.0.0'}, 'tagline': 'You Know, for Search'}\n"
     ]
    }
   ],
   "source": [
    "es = Elasticsearch(\n",
    "  \"http://elk-and-jupyter-elasticsearch-1:9200\",\n",
    "  basic_auth=(\"elastic\", os.getenv('ELASTIC_PASSWORD')),\n",
    ")\n",
    "print(es.info())"
   ]
  },
  {
   "cell_type": "markdown",
   "metadata": {},
   "source": [
    "Check if CSV is on Elastic"
   ]
  },
  {
   "cell_type": "code",
   "execution_count": 7,
   "metadata": {},
   "outputs": [
    {
     "name": "stdout",
     "output_type": "stream",
     "text": [
      "Data is OK\n"
     ]
    }
   ],
   "source": [
    "try:\n",
    "  es.search(\n",
    "    index='heart-csv-data',\n",
    "  )\n",
    "except NotFoundError:\n",
    "  print('Index Not found. Adding to ElasticSearch...')\n",
    "  with open('./data/heart.csv') as f:\n",
    "    reader = csv.DictReader(f)\n",
    "    helpers.bulk(es, reader, index='heart-csv-data')\n",
    "    print('OK!')\n",
    "else:\n",
    "  print('Data is OK')"
   ]
  },
  {
   "cell_type": "markdown",
   "metadata": {},
   "source": [
    "Indexing"
   ]
  },
  {
   "cell_type": "code",
   "execution_count": 8,
   "metadata": {},
   "outputs": [
    {
     "name": "stdout",
     "output_type": "stream",
     "text": [
      "{'_index': 'heart-csv-data', '_id': 'dtbNp4sBL4LmiW0YnQ9p', '_version': 1, 'result': 'created', '_shards': {'total': 2, 'successful': 1, 'failed': 0}, '_seq_no': 303, '_primary_term': 1}\n"
     ]
    }
   ],
   "source": [
    "result = es.index(\n",
    " index='heart-csv-data',\n",
    " document={\n",
    "   'age': '69', \n",
    "   'sex': '1', \n",
    "   'cp': '3', \n",
    "   'trestbps': '105', \n",
    "   'chol': '240', \n",
    "   'fbs': '0', \n",
    "   'restecg': '2', \n",
    "   'thalach': '154', \n",
    "   'exang': '1', \n",
    "   'oldpeak': '0.6', \n",
    "   'slope': '2', \n",
    "   'ca': '0', \n",
    "   'thal': 'reversible', \n",
    "   'target': '0'\n",
    "  }\n",
    ")\n",
    "print(result)"
   ]
  },
  {
   "cell_type": "markdown",
   "metadata": {},
   "source": [
    "Searching"
   ]
  },
  {
   "cell_type": "code",
   "execution_count": 9,
   "metadata": {},
   "outputs": [
    {
     "name": "stdout",
     "output_type": "stream",
     "text": [
      "{'took': 414, 'timed_out': False, '_shards': {'total': 1, 'successful': 1, 'skipped': 0, 'failed': 0}, 'hits': {'total': {'value': 18, 'relation': 'eq'}, 'max_score': 2.8025408, 'hits': [{'_index': 'heart-csv-data', '_id': 'XNbNp4sBL4LmiW0YOA5T', '_score': 2.8025408, '_source': {'age': '58', 'sex': '0', 'cp': '1', 'trestbps': '150', 'chol': '283', 'fbs': '1', 'restecg': '2', 'thalach': '162', 'exang': '0', 'oldpeak': '1', 'slope': '1', 'ca': '0', 'thal': 'normal', 'target': '0'}}, {'_index': 'heart-csv-data', '_id': 'XdbNp4sBL4LmiW0YOA5T', '_score': 2.8025408, '_source': {'age': '58', 'sex': '1', 'cp': '2', 'trestbps': '120', 'chol': '284', 'fbs': '0', 'restecg': '2', 'thalach': '160', 'exang': '0', 'oldpeak': '1.8', 'slope': '2', 'ca': '0', 'thal': 'normal', 'target': '0'}}, {'_index': 'heart-csv-data', '_id': 'XtbNp4sBL4LmiW0YOA5T', '_score': 2.8025408, '_source': {'age': '58', 'sex': '1', 'cp': '3', 'trestbps': '132', 'chol': '224', 'fbs': '0', 'restecg': '2', 'thalach': '173', 'exang': '0', 'oldpeak': '3.2', 'slope': '1', 'ca': '2', 'thal': 'reversible', 'target': '1'}}, {'_index': 'heart-csv-data', '_id': 'YdbNp4sBL4LmiW0YOA5T', '_score': 2.8025408, '_source': {'age': '58', 'sex': '0', 'cp': '3', 'trestbps': '120', 'chol': '340', 'fbs': '0', 'restecg': '0', 'thalach': '172', 'exang': '0', 'oldpeak': '0', 'slope': '1', 'ca': '0', 'thal': 'normal', 'target': '0'}}, {'_index': 'heart-csv-data', '_id': 'edbNp4sBL4LmiW0YOA5U', '_score': 2.8025408, '_source': {'age': '58', 'sex': '1', 'cp': '4', 'trestbps': '150', 'chol': '270', 'fbs': '0', 'restecg': '2', 'thalach': '111', 'exang': '1', 'oldpeak': '0.8', 'slope': '1', 'ca': '0', 'thal': 'reversible', 'target': '1'}}, {'_index': 'heart-csv-data', '_id': 'i9bNp4sBL4LmiW0YOA5U', '_score': 2.8025408, '_source': {'age': '58', 'sex': '1', 'cp': '3', 'trestbps': '140', 'chol': '211', 'fbs': '1', 'restecg': '2', 'thalach': '165', 'exang': '0', 'oldpeak': '0', 'slope': '1', 'ca': '0', 'thal': 'normal', 'target': '0'}}, {'_index': 'heart-csv-data', '_id': 'pNbNp4sBL4LmiW0YOA5V', '_score': 2.8025408, '_source': {'age': '58', 'sex': '1', 'cp': '3', 'trestbps': '105', 'chol': '240', 'fbs': '0', 'restecg': '2', 'thalach': '154', 'exang': '1', 'oldpeak': '0.6', 'slope': '2', 'ca': '0', 'thal': 'reversible', 'target': '0'}}, {'_index': 'heart-csv-data', '_id': 'sdbNp4sBL4LmiW0YOA5V', '_score': 2.8025408, '_source': {'age': '58', 'sex': '1', 'cp': '4', 'trestbps': '125', 'chol': '300', 'fbs': '0', 'restecg': '2', 'thalach': '171', 'exang': '0', 'oldpeak': '0', 'slope': '1', 'ca': '2', 'thal': 'reversible', 'target': '0'}}, {'_index': 'heart-csv-data', '_id': 't9bNp4sBL4LmiW0YOA5V', '_score': 2.8025408, '_source': {'age': '58', 'sex': '0', 'cp': '4', 'trestbps': '100', 'chol': '248', 'fbs': '0', 'restecg': '2', 'thalach': '122', 'exang': '0', 'oldpeak': '1', 'slope': '2', 'ca': '0', 'thal': 'normal', 'target': '0'}}, {'_index': 'heart-csv-data', '_id': '4NbNp4sBL4LmiW0YOA5W', '_score': 2.8025408, '_source': {'age': '58', 'sex': '1', 'cp': '4', 'trestbps': '128', 'chol': '259', 'fbs': '0', 'restecg': '2', 'thalach': '130', 'exang': '1', 'oldpeak': '3', 'slope': '2', 'ca': '2', 'thal': 'reversible', 'target': '1'}}]}}\n"
     ]
    }
   ],
   "source": [
    "result = es.search(\n",
    " index='heart-csv-data',\n",
    " query={\n",
    "    'match': {'age': '58'}\n",
    "  },\n",
    ")\n",
    "print(result)"
   ]
  },
  {
   "cell_type": "markdown",
   "metadata": {},
   "source": [
    "Updating data"
   ]
  },
  {
   "cell_type": "code",
   "execution_count": 10,
   "metadata": {},
   "outputs": [
    {
     "name": "stdout",
     "output_type": "stream",
     "text": [
      "{'_index': 'heart-csv-data', '_id': 'd9bNp4sBL4LmiW0Yug-f', '_version': 2, '_seq_no': 305, '_primary_term': 1, 'found': True, '_source': {'age': '67', 'exang': '1', 'sex': '1', 'thal': 'reversible', 'chol': '240', 'slope': '2', 'cp': '3', 'trestbps': '105', 'target': '0', 'oldpeak': '0.6', 'thalach': '154', 'fbs': '0', 'ca': '0', 'restecg': '2'}}\n"
     ]
    }
   ],
   "source": [
    "result = es.index(\n",
    " index='heart-csv-data',\n",
    " document={\n",
    "  'age': '58',\n",
    " })\n",
    "es.update(\n",
    " index='heart-csv-data',\n",
    " id=result['_id'], \n",
    " doc={\n",
    "   'age': '67', \n",
    "   'sex': '1', \n",
    "   'cp': '3', \n",
    "   'trestbps': '105', \n",
    "   'chol': '240', \n",
    "   'fbs': '0', \n",
    "   'restecg': '2', \n",
    "   'thalach': '154', \n",
    "   'exang': '1', \n",
    "   'oldpeak': '0.6', \n",
    "   'slope': '2', \n",
    "   'ca': '0', \n",
    "   'thal': 'reversible', \n",
    "   'target': '0'\n",
    "  }\n",
    ")\n",
    "print(es.get(index='heart-csv-data', id=result['_id']))"
   ]
  }
 ],
 "metadata": {
  "kernelspec": {
   "display_name": "Python 3 (ipykernel)",
   "language": "python",
   "name": "python3"
  },
  "language_info": {
   "codemirror_mode": {
    "name": "ipython",
    "version": 3
   },
   "file_extension": ".py",
   "mimetype": "text/x-python",
   "name": "python",
   "nbconvert_exporter": "python",
   "pygments_lexer": "ipython3",
   "version": "3.11.6"
  }
 },
 "nbformat": 4,
 "nbformat_minor": 4
}
